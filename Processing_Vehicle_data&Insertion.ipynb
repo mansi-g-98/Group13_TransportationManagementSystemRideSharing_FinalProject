{
 "cells": [
  {
   "cell_type": "code",
   "execution_count": 1,
   "id": "d50153bb",
   "metadata": {},
   "outputs": [
    {
     "name": "stderr",
     "output_type": "stream",
     "text": [
      "/var/folders/_p/1rk3vx3d4mx_sd3vvwfjxg940000gn/T/ipykernel_42827/3806832642.py:4: DtypeWarning: Columns (2,3,4,5,8) have mixed types. Specify dtype option on import or set low_memory=False.\n",
      "  vehicles_df = pd.read_csv(csv_file_path)\n",
      "/var/folders/_p/1rk3vx3d4mx_sd3vvwfjxg940000gn/T/ipykernel_42827/3806832642.py:25: DtypeWarning: Columns (1,3,4,7,8) have mixed types. Specify dtype option on import or set low_memory=False.\n",
      "  reviews_df = pd.read_csv(csv_file_path)\n"
     ]
    }
   ],
   "source": [
    "import pandas as pd\n",
    "\n",
    "def preprocess_rideshare_vehicle_data(csv_file_path, num_vehicles=30):\n",
    "    vehicles_df = pd.read_csv(csv_file_path)\n",
    "    vehicles_preprocessed = vehicles_df[['REPORTED_YEAR', 'REPORTED_MONTH', 'STATE', 'MAKE', 'MODEL', 'COLOR', 'MODEL_YEAR', 'NUMBER_OF_TRIPS', 'MULTIPLE_TNPS']].copy()\n",
    "    vehicles_preprocessed.columns = ['ReportedYear', 'ReportedMonth', 'State', 'Make', 'Model', 'Color', 'ModelYear', 'NumberOfTrips', 'MultipleTNPs']\n",
    "    vehicles_preprocessed.dropna(inplace=True)\n",
    "    vehicles_preprocessed = vehicles_preprocessed.head(num_vehicles)\n",
    "    vehicles_preprocessed['VehicleID'] = range(1, num_vehicles + 1)\n",
    "    # Assign existing driver IDs\n",
    "    if existing_driver_ids:\n",
    "        vehicles_preprocessed['DriverID'] = existing_driver_ids[:num_vehicles]\n",
    "    else:\n",
    "        vehicles_preprocessed['DriverID'] = range(1, num_vehicles + 1)\n",
    "\n",
    "    # Convert data types\n",
    "    vehicles_preprocessed['ReportedYear'] = vehicles_preprocessed['ReportedYear'].astype(int)\n",
    "    vehicles_preprocessed['ReportedMonth'] = vehicles_preprocessed['ReportedMonth'].astype(int)\n",
    "    vehicles_preprocessed['ModelYear'] = vehicles_preprocessed['ModelYear'].astype(int)\n",
    "    vehicles_preprocessed['NumberOfTrips'] = vehicles_preprocessed['NumberOfTrips'].astype(int)\n",
    "    vehicles_preprocessed['MultipleTNPs'] = vehicles_preprocessed['MultipleTNPs'].astype(bool)\n",
    "    return vehicles_preprocessed\n",
    "\n",
    "\n",
    "# Paths to the CSV files\n",
    "vehicles_file_path = 'data/chicago-ridesharing-vehicles.csv'\n",
    "\n",
    "existing_driver_ids = [1,2,3,4,5,6,7,8,9,10,11,12,13,14,15,16,17,18,19,20,21,22,23,24,25,26,27,28,29,30]  # Replace with actual IDs from your database\n",
    "\n",
    "# Preprocessing the datasets\n",
    "vehicles_data = preprocess_rideshare_vehicle_data(vehicles_file_path)\n",
    "\n",
    "# vehicles_data now contain the preprocessed data\n"
   ]
  },
  {
   "cell_type": "code",
   "execution_count": 2,
   "id": "a7a1b195",
   "metadata": {},
   "outputs": [
    {
     "name": "stderr",
     "output_type": "stream",
     "text": [
      "/var/folders/_p/1rk3vx3d4mx_sd3vvwfjxg940000gn/T/ipykernel_42827/3806832642.py:4: DtypeWarning: Columns (2,3,4,5,8) have mixed types. Specify dtype option on import or set low_memory=False.\n",
      "  vehicles_df = pd.read_csv(csv_file_path)\n"
     ]
    }
   ],
   "source": [
    "vehicle_data = preprocess_rideshare_vehicle_data(vehicles_file_path)"
   ]
  },
  {
   "cell_type": "code",
   "execution_count": null,
   "id": "f31422e7",
   "metadata": {},
   "outputs": [],
   "source": []
  },
  {
   "cell_type": "code",
   "execution_count": 16,
   "id": "d1987d8e",
   "metadata": {},
   "outputs": [
    {
     "name": "stdout",
     "output_type": "stream",
     "text": [
      "Requirement already satisfied: pymysql in /Users/vijaymohanyeddu/opt/anaconda3/lib/python3.9/site-packages (1.1.0)\n",
      "Note: you may need to restart the kernel to use updated packages.\n"
     ]
    }
   ],
   "source": [
    "pip install pymysql  # For MySQL\n"
   ]
  },
  {
   "cell_type": "code",
   "execution_count": 4,
   "id": "93d81513",
   "metadata": {},
   "outputs": [],
   "source": [
    "import pymysql\n",
    "\n",
    "host = '127.0.0.1'  # This is equivalent to 'localhost'\n",
    "port = 3306\n",
    "user = 'root'\n",
    "password = 'Newlife@graduate1'  # Be cautious with special characters in passwords\n",
    "db = 'Transport'  # Replace with your actual database name\n",
    "\n",
    "# Establishing a connection to the database\n",
    "connection = pymysql.connect(host=host, port=port, user=user, passwd=password, db=db)\n",
    "\n",
    "# Creating a cursor object to interact with the database\n",
    "cursor = connection.cursor()\n",
    "\n",
    "# Executing a query\n",
    "cursor.execute(\"SELECT * FROM Transport.Vehicle\")\n",
    "\n",
    "# Fetching the results\n",
    "results = cursor.fetchall()\n",
    "\n",
    "# Iterate through the results\n",
    "for row in results:\n",
    "    print(row)\n",
    "\n",
    "# Closing the cursor and connection\n",
    "cursor.close()\n",
    "connection.close()"
   ]
  },
  {
   "cell_type": "code",
   "execution_count": 5,
   "id": "eb5311e5",
   "metadata": {},
   "outputs": [],
   "source": [
    "def insert_data_into_vehicle_table(df, host, port, user, password, db):\n",
    "    # Establishing a connection to the database\n",
    "    connection = pymysql.connect(host=host, port=port, user=user, password=password, db=db)\n",
    "    cursor = connection.cursor()\n",
    "\n",
    "    # Ensure the DataFrame columns are in the correct order\n",
    "    df = df[['VehicleID', 'DriverID', 'ReportedYear', 'ReportedMonth', 'State', 'Make', 'Model', 'Color', 'ModelYear', 'NumberOfTrips', 'MultipleTNPs']]\n",
    "\n",
    "    # Convert data types as necessary\n",
    "    df = df.astype({'ReportedYear': int, 'ReportedMonth': int, 'ModelYear': int, 'NumberOfTrips': int, 'MultipleTNPs': bool})\n",
    "\n",
    "    # SQL query for inserting data\n",
    "    insert_query = \"\"\"\n",
    "    INSERT INTO Vehicle (VehicleID, DriverID, ReportedYear, ReportedMonth, State, Make, Model, Color, ModelYear, NumberOfTrips, MultipleTNPs)\n",
    "    VALUES (%s, %s, %s, %s, %s, %s, %s, %s, %s, %s, %s)\n",
    "    \"\"\"\n",
    "\n",
    "    # Iterate over the DataFrame rows as tuples\n",
    "    for row in df.itertuples(index=False):\n",
    "        cursor.execute(insert_query, row)\n",
    "\n",
    "    # Commit the transaction\n",
    "    connection.commit()\n",
    "\n",
    "    # Closing the cursor and connection\n",
    "    cursor.close()\n",
    "    connection.close()\n",
    "\n",
    "# Usage example\n",
    "# vehicle_data = pd.read_csv('path_to_your_csv_file.csv')  # Load your DataFrame\n",
    "# preprocess the data before using it\n",
    "# vehicle_data = preprocess_rideshare_vehicle_data('path_to_your_csv_file.csv')\n",
    "# insert_data_into_vehicle_table(vehicle_data, '127.0.0.1', 3306, 'root', 'Newlife@graduate1', 'Transport')\n",
    "\n",
    "\n",
    "# Usage example\n",
    "# vehicle_data = pd.read_csv('path_to_your_csv_file.csv')  # Load your DataFrame\n",
    "insert_data_into_vehicle_table(vehicle_data, '127.0.0.1', 3306, 'root', 'Newlife@graduate1', 'Transport')\n"
   ]
  },
  {
   "cell_type": "code",
   "execution_count": null,
   "id": "ac807bb5",
   "metadata": {},
   "outputs": [],
   "source": []
  },
  {
   "cell_type": "code",
   "execution_count": null,
   "id": "b53324f6",
   "metadata": {},
   "outputs": [],
   "source": []
  }
 ],
 "metadata": {
  "kernelspec": {
   "display_name": "Python 3 (ipykernel)",
   "language": "python",
   "name": "python3"
  },
  "language_info": {
   "codemirror_mode": {
    "name": "ipython",
    "version": 3
   },
   "file_extension": ".py",
   "mimetype": "text/x-python",
   "name": "python",
   "nbconvert_exporter": "python",
   "pygments_lexer": "ipython3",
   "version": "3.9.13"
  }
 },
 "nbformat": 4,
 "nbformat_minor": 5
}
